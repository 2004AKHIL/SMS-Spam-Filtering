{
 "cells": [
  {
   "cell_type": "code",
   "execution_count": 28,
   "id": "4310897c",
   "metadata": {},
   "outputs": [
    {
     "name": "stderr",
     "output_type": "stream",
     "text": [
      "[nltk_data] Downloading package stopwords to\n",
      "[nltk_data]     C:\\Users\\DELL\\AppData\\Roaming\\nltk_data...\n",
      "[nltk_data]   Package stopwords is already up-to-date!\n"
     ]
    },
    {
     "data": {
      "image/png": "[encoded data removed]",
      "text/plain": [
       "<Figure size 800x500 with 1 Axes>"
      ]
     },
     "metadata": {},
     "output_type": "display_data"
    },
    {
     "name": "stdout",
     "output_type": "stream",
     "text": [
      "Test accuracy: 97.78%\n",
      "This is spam!\n",
      "This is a normal message.\n",
      "This is spam!\n"
     ]
    }
   ],
   "source": [
    "import pandas as pd\n",
    "import string\n",
    "import re\n",
    "import numpy as np\n",
    "import matplotlib.pyplot as plt\n",
    "import seaborn as sns\n",
    "import nltk\n",
    "from nltk.corpus import stopwords\n",
    "from nltk.stem import PorterStemmer\n",
    "from sklearn.naive_bayes import MultinomialNB\n",
    "from sklearn.feature_extraction.text import CountVectorizer\n",
    "from sklearn.model_selection import train_test_split\n",
    "from sklearn.metrics import accuracy_score\n",
    "import os\n",
    "\n",
    "# Download NLTK stopwords\n",
    "nltk.download('stopwords')\n",
    "\n",
    "# Load dataset\n",
    "data_file = 'SMSSpamCollection.txt'  # Ensure this file exists in the correct path\n",
    "sms = pd.read_csv(data_file, sep='\\t', names=['label', 'message'])\n",
    "\n",
    "# Drop duplicates and reset index\n",
    "sms.drop_duplicates(inplace=True)\n",
    "sms.reset_index(drop=True)\n",
    "\n",
    "# Plot distribution of spam/ham\n",
    "plt.figure(figsize=(8, 5))\n",
    "sns.countplot(x='label', data=sms)\n",
    "plt.xlabel('SMS Classification')\n",
    "plt.ylabel('Count')\n",
    "plt.show()\n",
    "\n",
    "# Corpus and PorterStemmer\n",
    "corpus = []\n",
    "ps = PorterStemmer()\n",
    "\n",
    "# Ensure index reset before processing\n",
    "sms.reset_index(drop=True, inplace=True)\n",
    "\n",
    "# Pre-process SMS messages\n",
    "try:\n",
    "    for i in range(sms.shape[0]):\n",
    "        message = re.sub('[^a-zA-Z]', ' ', sms['message'][i])  # Remove non-alphabets\n",
    "        message = message.lower()  # Convert to lowercase\n",
    "        words = message.split()  # Tokenize\n",
    "        words = [word for word in words if word not in set(stopwords.words('english'))]  # Remove stopwords\n",
    "        words = [ps.stem(word) for word in words]  # Stem words\n",
    "        corpus.append(' '.join(words))\n",
    "except KeyError as e:\n",
    "    print(f\"KeyError encountered at index {i}: {e}\")\n",
    "\n",
    "# Vectorize corpus\n",
    "cv = CountVectorizer(max_features=2500)\n",
    "X = cv.fit_transform(corpus).toarray()\n",
    "\n",
    "# Correctly map spam to 1 and ham to 0\n",
    "y = (sms['label'] == 'spam').astype(int)\n",
    "\n",
    "# Split the data into training/testing sets\n",
    "X_train, X_test, y_train, y_test = train_test_split(X, y, test_size=0.2, random_state=0)\n",
    "\n",
    "# Train Naive Bayes classifier\n",
    "classifier = MultinomialNB(alpha=0.1)\n",
    "classifier.fit(X_train, y_train)\n",
    "\n",
    "# Predict on the test set\n",
    "y_pred = classifier.predict(X_test)\n",
    "accuracy = accuracy_score(y_test, y_pred)\n",
    "\n",
    "print(f\"Test accuracy: {accuracy * 100:.2f}%\")\n",
    "\n",
    "# Define spam prediction function\n",
    "def predict_spam(message):\n",
    "    processed_message = re.sub('[^a-zA-Z]', ' ', message).lower()\n",
    "    words = processed_message.split()\n",
    "    words = [ps.stem(word) for word in words if word not in set(stopwords.words('english'))]\n",
    "    transformed_message = cv.transform([' '.join(words)]).toarray()\n",
    "    return classifier.predict(transformed_message)[0]\n",
    "\n",
    "# Test spam prediction\n",
    "test_message = \"Get your free credit card now! No credit check required. Click here.\"\n",
    "result = ['This is a normal message.', 'This is spam!']\n",
    "\n",
    "if predict_spam(test_message):\n",
    "    print(result[1])\n",
    "else:\n",
    "    print(result[0])\n",
    "    \n",
    "msg = \"[Update] Congratulations Nile Yogesh, You account is activated for investment in Stocks. Click to invest now: \"\n",
    "\n",
    "if predict_spam(msg):\n",
    "    print(result[0])\n",
    "else:\n",
    "    print(result[1])\n",
    "\n",
    "msg = \"Your Stock broker FALANA BROKING LIMITED reported your fund balance Rs.1500.5 & securities balance 0.0 as on end of MAY-20 . Balances do not cover your bank, DP & PMS balance with broking entity. Check details at YOGESHNILE.WORK4U@GMAIL.COM. If email Id not correct, kindly update with your broker.\"\n",
    "\n",
    "if predict_spam(msg):\n",
    "    print(result[0])\n",
    "else:\n",
    "    print(result[1])\n"
   ]
  },
  {
   "cell_type": "code",
   "execution_count": null,
   "id": "8ca9a2c5",
   "metadata": {},
   "outputs": [],
   "source": []
  }
 ],
 "metadata": {
  "kernelspec": {
   "display_name": "Python 3 (ipykernel)",
   "language": "python",
   "name": "python3"
  },
  "language_info": {
   "codemirror_mode": {
    "name": "ipython",
    "version": 3
   },
   "file_extension": ".py",
   "mimetype": "text/x-python",
   "name": "python",
   "nbconvert_exporter": "python",
   "pygments_lexer": "ipython3",
   "version": "3.11.5"
  }
 },
 "nbformat": 4,
 "nbformat_minor": 5
}
